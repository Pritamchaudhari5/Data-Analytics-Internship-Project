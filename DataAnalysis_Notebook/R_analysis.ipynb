{
 "cells": [
  {
   "cell_type": "markdown",
   "metadata": {},
   "source": [
    "# ***Project Title: Customer LifeTime Value***"
   ]
  },
  {
   "cell_type": "markdown",
   "metadata": {},
   "source": [
    "***Project Details***\n",
    "\n",
    "- Techonologies : Bussiness Intelligence\n",
    "- Domain        : Finance, Insurence and Banking"
   ]
  },
  {
   "cell_type": "markdown",
   "metadata": {},
   "source": [
    "# ***`Data analysis Using R Language`***"
   ]
  },
  {
   "cell_type": "code",
   "execution_count": 3,
   "metadata": {
    "vscode": {
     "languageId": "r"
    }
   },
   "outputs": [
    {
     "ename": "ERROR",
     "evalue": "Error: '\\D' is an unrecognized escape in character string starting \"'D:\\D\"\n",
     "output_type": "error",
     "traceback": [
      "Error: '\\D' is an unrecognized escape in character string starting \"'D:\\D\"\nTraceback:\n"
     ]
    }
   ],
   "source": [
    "data <- read.csv('D:\\Data-Analytics-Internship-Project\\Dataset\\mta-customer-feedback-data-beginning-2014-1.csv')"
   ]
  },
  {
   "cell_type": "code",
   "execution_count": null,
   "metadata": {
    "vscode": {
     "languageId": "r"
    }
   },
   "outputs": [],
   "source": []
  }
 ],
 "metadata": {
  "kernelspec": {
   "display_name": "R",
   "language": "R",
   "name": "ir"
  },
  "language_info": {
   "codemirror_mode": "r",
   "file_extension": ".r",
   "mimetype": "text/x-r-source",
   "name": "R",
   "pygments_lexer": "r",
   "version": "3.6.1"
  },
  "orig_nbformat": 4,
  "vscode": {
   "interpreter": {
    "hash": "25a19fbe0a9132dfb9279d48d161753c6352f8f9478c2e74383d340069b907c3"
   }
  }
 },
 "nbformat": 4,
 "nbformat_minor": 2
}
