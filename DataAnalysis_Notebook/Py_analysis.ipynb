{
 "cells": [
  {
   "cell_type": "markdown",
   "metadata": {},
   "source": [
    "# ***Project Title: Customer LifeTime Value***"
   ]
  },
  {
   "cell_type": "markdown",
   "metadata": {},
   "source": [
    "***Project Details***\n",
    "\n",
    "- Techonologies : Bussiness Intelligence\n",
    "- Domain        : Finance, Insurence and Banking"
   ]
  },
  {
   "cell_type": "markdown",
   "metadata": {},
   "source": [
    "# ***`Data analysis Using Python`***"
   ]
  },
  {
   "cell_type": "markdown",
   "metadata": {},
   "source": []
  },
  {
   "cell_type": "code",
   "execution_count": 1,
   "metadata": {},
   "outputs": [],
   "source": [
    "# Importing Libraries\n",
    "\n",
    "import numpy as np\n",
    "import pandas as pd\n",
    "import matplotlib.pyplot as plt\n",
    "import seaborn as sns"
   ]
  },
  {
   "cell_type": "code",
   "execution_count": 2,
   "metadata": {},
   "outputs": [],
   "source": [
    "df= pd.read_csv(\"D:\\Data-Analytics-Internship-Project\\Dataset\\mta-customer-feedback-data-beginning-2014-1.csv\")"
   ]
  },
  {
   "cell_type": "code",
   "execution_count": 3,
   "metadata": {},
   "outputs": [
    {
     "data": {
      "text/html": [
       "<div>\n",
       "<style scoped>\n",
       "    .dataframe tbody tr th:only-of-type {\n",
       "        vertical-align: middle;\n",
       "    }\n",
       "\n",
       "    .dataframe tbody tr th {\n",
       "        vertical-align: top;\n",
       "    }\n",
       "\n",
       "    .dataframe thead th {\n",
       "        text-align: right;\n",
       "    }\n",
       "</style>\n",
       "<table border=\"1\" class=\"dataframe\">\n",
       "  <thead>\n",
       "    <tr style=\"text-align: right;\">\n",
       "      <th></th>\n",
       "      <th>Agency</th>\n",
       "      <th>Commendation or Complaint</th>\n",
       "      <th>Subject Matter</th>\n",
       "      <th>Subject Detail</th>\n",
       "      <th>Issue Detail</th>\n",
       "      <th>Year</th>\n",
       "      <th>Quarter</th>\n",
       "      <th>Branch/Line/Route</th>\n",
       "    </tr>\n",
       "  </thead>\n",
       "  <tbody>\n",
       "    <tr>\n",
       "      <th>0</th>\n",
       "      <td>Long Island Rail Road</td>\n",
       "      <td>Commendation</td>\n",
       "      <td>Employees</td>\n",
       "      <td>CSR - Ambassador</td>\n",
       "      <td>Very Helpful/Friendly</td>\n",
       "      <td>2015</td>\n",
       "      <td>2</td>\n",
       "      <td>No Value</td>\n",
       "    </tr>\n",
       "    <tr>\n",
       "      <th>1</th>\n",
       "      <td>Long Island Rail Road</td>\n",
       "      <td>Commendation</td>\n",
       "      <td>Employees</td>\n",
       "      <td>CSR - Ambassador</td>\n",
       "      <td>Very Helpful/Friendly</td>\n",
       "      <td>2015</td>\n",
       "      <td>2</td>\n",
       "      <td>Port Jefferson</td>\n",
       "    </tr>\n",
       "    <tr>\n",
       "      <th>2</th>\n",
       "      <td>Long Island Rail Road</td>\n",
       "      <td>Commendation</td>\n",
       "      <td>Employees</td>\n",
       "      <td>CSR - Customer Service Office</td>\n",
       "      <td>NaN</td>\n",
       "      <td>2015</td>\n",
       "      <td>1</td>\n",
       "      <td>No Value</td>\n",
       "    </tr>\n",
       "    <tr>\n",
       "      <th>3</th>\n",
       "      <td>Long Island Rail Road</td>\n",
       "      <td>Commendation</td>\n",
       "      <td>Employees</td>\n",
       "      <td>CSR - Customer Service Office</td>\n",
       "      <td>Other</td>\n",
       "      <td>2015</td>\n",
       "      <td>2</td>\n",
       "      <td>Far Rockaway</td>\n",
       "    </tr>\n",
       "    <tr>\n",
       "      <th>4</th>\n",
       "      <td>Long Island Rail Road</td>\n",
       "      <td>Commendation</td>\n",
       "      <td>Employees</td>\n",
       "      <td>CSR - Customer Service Office</td>\n",
       "      <td>Very Helpful / Friendly</td>\n",
       "      <td>2015</td>\n",
       "      <td>2</td>\n",
       "      <td>No Value</td>\n",
       "    </tr>\n",
       "    <tr>\n",
       "      <th>...</th>\n",
       "      <td>...</td>\n",
       "      <td>...</td>\n",
       "      <td>...</td>\n",
       "      <td>...</td>\n",
       "      <td>...</td>\n",
       "      <td>...</td>\n",
       "      <td>...</td>\n",
       "      <td>...</td>\n",
       "    </tr>\n",
       "    <tr>\n",
       "      <th>183882</th>\n",
       "      <td>Subways</td>\n",
       "      <td>Complaint</td>\n",
       "      <td>Travel Disruption / Trip Problem</td>\n",
       "      <td>Website</td>\n",
       "      <td>No Announcement / Messages - Visual/Text</td>\n",
       "      <td>2017</td>\n",
       "      <td>4</td>\n",
       "      <td>C</td>\n",
       "    </tr>\n",
       "    <tr>\n",
       "      <th>183883</th>\n",
       "      <td>Subways</td>\n",
       "      <td>Complaint</td>\n",
       "      <td>Travel Disruption / Trip Problem</td>\n",
       "      <td>Website</td>\n",
       "      <td>No Announcement / Messages - Visual/Text</td>\n",
       "      <td>2017</td>\n",
       "      <td>4</td>\n",
       "      <td>No Value</td>\n",
       "    </tr>\n",
       "    <tr>\n",
       "      <th>183884</th>\n",
       "      <td>Subways</td>\n",
       "      <td>Complaint</td>\n",
       "      <td>Travel Disruption / Trip Problem</td>\n",
       "      <td>Website</td>\n",
       "      <td>No Announcement / Messages - Visual/Text</td>\n",
       "      <td>2017</td>\n",
       "      <td>4</td>\n",
       "      <td>N</td>\n",
       "    </tr>\n",
       "    <tr>\n",
       "      <th>183885</th>\n",
       "      <td>Subways</td>\n",
       "      <td>Complaint</td>\n",
       "      <td>Travel Disruption / Trip Problem</td>\n",
       "      <td>Website</td>\n",
       "      <td>Timeliness - Visual / Text</td>\n",
       "      <td>2017</td>\n",
       "      <td>4</td>\n",
       "      <td>7</td>\n",
       "    </tr>\n",
       "    <tr>\n",
       "      <th>183886</th>\n",
       "      <td>Subways</td>\n",
       "      <td>Complaint</td>\n",
       "      <td>Travel Disruption / Trip Problem</td>\n",
       "      <td>Website</td>\n",
       "      <td>Timeliness - Visual / Text</td>\n",
       "      <td>2017</td>\n",
       "      <td>4</td>\n",
       "      <td>No Value</td>\n",
       "    </tr>\n",
       "  </tbody>\n",
       "</table>\n",
       "<p>183887 rows × 8 columns</p>\n",
       "</div>"
      ],
      "text/plain": [
       "                       Agency Commendation or Complaint  \\\n",
       "0       Long Island Rail Road              Commendation   \n",
       "1       Long Island Rail Road              Commendation   \n",
       "2       Long Island Rail Road              Commendation   \n",
       "3       Long Island Rail Road              Commendation   \n",
       "4       Long Island Rail Road              Commendation   \n",
       "...                       ...                       ...   \n",
       "183882                Subways                 Complaint   \n",
       "183883                Subways                 Complaint   \n",
       "183884                Subways                 Complaint   \n",
       "183885                Subways                 Complaint   \n",
       "183886                Subways                 Complaint   \n",
       "\n",
       "                          Subject Matter                 Subject Detail  \\\n",
       "0                              Employees               CSR - Ambassador   \n",
       "1                              Employees               CSR - Ambassador   \n",
       "2                              Employees  CSR - Customer Service Office   \n",
       "3                              Employees  CSR - Customer Service Office   \n",
       "4                              Employees  CSR - Customer Service Office   \n",
       "...                                  ...                            ...   \n",
       "183882  Travel Disruption / Trip Problem                        Website   \n",
       "183883  Travel Disruption / Trip Problem                        Website   \n",
       "183884  Travel Disruption / Trip Problem                        Website   \n",
       "183885  Travel Disruption / Trip Problem                        Website   \n",
       "183886  Travel Disruption / Trip Problem                        Website   \n",
       "\n",
       "                                    Issue Detail  Year  Quarter  \\\n",
       "0                          Very Helpful/Friendly  2015        2   \n",
       "1                          Very Helpful/Friendly  2015        2   \n",
       "2                                            NaN  2015        1   \n",
       "3                                          Other  2015        2   \n",
       "4                        Very Helpful / Friendly  2015        2   \n",
       "...                                          ...   ...      ...   \n",
       "183882  No Announcement / Messages - Visual/Text  2017        4   \n",
       "183883  No Announcement / Messages - Visual/Text  2017        4   \n",
       "183884  No Announcement / Messages - Visual/Text  2017        4   \n",
       "183885                Timeliness - Visual / Text  2017        4   \n",
       "183886                Timeliness - Visual / Text  2017        4   \n",
       "\n",
       "       Branch/Line/Route  \n",
       "0               No Value  \n",
       "1         Port Jefferson  \n",
       "2               No Value  \n",
       "3           Far Rockaway  \n",
       "4               No Value  \n",
       "...                  ...  \n",
       "183882                 C  \n",
       "183883          No Value  \n",
       "183884                 N  \n",
       "183885                 7  \n",
       "183886          No Value  \n",
       "\n",
       "[183887 rows x 8 columns]"
      ]
     },
     "execution_count": 3,
     "metadata": {},
     "output_type": "execute_result"
    }
   ],
   "source": [
    "df = pd.DataFrame(df)\n",
    "df"
   ]
  },
  {
   "cell_type": "code",
   "execution_count": 4,
   "metadata": {},
   "outputs": [
    {
     "data": {
      "text/html": [
       "<div>\n",
       "<style scoped>\n",
       "    .dataframe tbody tr th:only-of-type {\n",
       "        vertical-align: middle;\n",
       "    }\n",
       "\n",
       "    .dataframe tbody tr th {\n",
       "        vertical-align: top;\n",
       "    }\n",
       "\n",
       "    .dataframe thead th {\n",
       "        text-align: right;\n",
       "    }\n",
       "</style>\n",
       "<table border=\"1\" class=\"dataframe\">\n",
       "  <thead>\n",
       "    <tr style=\"text-align: right;\">\n",
       "      <th></th>\n",
       "      <th>Year</th>\n",
       "      <th>Quarter</th>\n",
       "    </tr>\n",
       "  </thead>\n",
       "  <tbody>\n",
       "    <tr>\n",
       "      <th>count</th>\n",
       "      <td>183887.000000</td>\n",
       "      <td>183887.000000</td>\n",
       "    </tr>\n",
       "    <tr>\n",
       "      <th>mean</th>\n",
       "      <td>2015.737991</td>\n",
       "      <td>2.756938</td>\n",
       "    </tr>\n",
       "    <tr>\n",
       "      <th>std</th>\n",
       "      <td>0.815389</td>\n",
       "      <td>1.110994</td>\n",
       "    </tr>\n",
       "    <tr>\n",
       "      <th>min</th>\n",
       "      <td>2014.000000</td>\n",
       "      <td>1.000000</td>\n",
       "    </tr>\n",
       "    <tr>\n",
       "      <th>25%</th>\n",
       "      <td>2015.000000</td>\n",
       "      <td>2.000000</td>\n",
       "    </tr>\n",
       "    <tr>\n",
       "      <th>50%</th>\n",
       "      <td>2016.000000</td>\n",
       "      <td>3.000000</td>\n",
       "    </tr>\n",
       "    <tr>\n",
       "      <th>75%</th>\n",
       "      <td>2016.000000</td>\n",
       "      <td>4.000000</td>\n",
       "    </tr>\n",
       "    <tr>\n",
       "      <th>max</th>\n",
       "      <td>2017.000000</td>\n",
       "      <td>4.000000</td>\n",
       "    </tr>\n",
       "  </tbody>\n",
       "</table>\n",
       "</div>"
      ],
      "text/plain": [
       "                Year        Quarter\n",
       "count  183887.000000  183887.000000\n",
       "mean     2015.737991       2.756938\n",
       "std         0.815389       1.110994\n",
       "min      2014.000000       1.000000\n",
       "25%      2015.000000       2.000000\n",
       "50%      2016.000000       3.000000\n",
       "75%      2016.000000       4.000000\n",
       "max      2017.000000       4.000000"
      ]
     },
     "execution_count": 4,
     "metadata": {},
     "output_type": "execute_result"
    }
   ],
   "source": [
    "df.describe()"
   ]
  },
  {
   "cell_type": "code",
   "execution_count": 5,
   "metadata": {},
   "outputs": [
    {
     "name": "stdout",
     "output_type": "stream",
     "text": [
      "<class 'pandas.core.frame.DataFrame'>\n",
      "RangeIndex: 183887 entries, 0 to 183886\n",
      "Data columns (total 8 columns):\n",
      " #   Column                     Non-Null Count   Dtype \n",
      "---  ------                     --------------   ----- \n",
      " 0   Agency                     183887 non-null  object\n",
      " 1   Commendation or Complaint  183887 non-null  object\n",
      " 2   Subject Matter             183887 non-null  object\n",
      " 3   Subject Detail             183887 non-null  object\n",
      " 4   Issue Detail               173753 non-null  object\n",
      " 5   Year                       183887 non-null  int64 \n",
      " 6   Quarter                    183887 non-null  int64 \n",
      " 7   Branch/Line/Route          183887 non-null  object\n",
      "dtypes: int64(2), object(6)\n",
      "memory usage: 11.2+ MB\n"
     ]
    }
   ],
   "source": [
    "df.info()"
   ]
  },
  {
   "cell_type": "code",
   "execution_count": 6,
   "metadata": {},
   "outputs": [
    {
     "data": {
      "text/plain": [
       "Agency                           0\n",
       "Commendation or Complaint        0\n",
       "Subject Matter                   0\n",
       "Subject Detail                   0\n",
       "Issue Detail                 10134\n",
       "Year                             0\n",
       "Quarter                          0\n",
       "Branch/Line/Route                0\n",
       "dtype: int64"
      ]
     },
     "execution_count": 6,
     "metadata": {},
     "output_type": "execute_result"
    }
   ],
   "source": [
    "df.isnull().sum()"
   ]
  },
  {
   "cell_type": "code",
   "execution_count": 7,
   "metadata": {},
   "outputs": [],
   "source": [
    "df.dropna(inplace=True)"
   ]
  },
  {
   "cell_type": "code",
   "execution_count": 8,
   "metadata": {},
   "outputs": [
    {
     "data": {
      "text/html": [
       "<div>\n",
       "<style scoped>\n",
       "    .dataframe tbody tr th:only-of-type {\n",
       "        vertical-align: middle;\n",
       "    }\n",
       "\n",
       "    .dataframe tbody tr th {\n",
       "        vertical-align: top;\n",
       "    }\n",
       "\n",
       "    .dataframe thead th {\n",
       "        text-align: right;\n",
       "    }\n",
       "</style>\n",
       "<table border=\"1\" class=\"dataframe\">\n",
       "  <thead>\n",
       "    <tr style=\"text-align: right;\">\n",
       "      <th></th>\n",
       "      <th>Agency</th>\n",
       "      <th>Commendation or Complaint</th>\n",
       "      <th>Subject Matter</th>\n",
       "      <th>Subject Detail</th>\n",
       "      <th>Issue Detail</th>\n",
       "      <th>Year</th>\n",
       "      <th>Quarter</th>\n",
       "      <th>Branch/Line/Route</th>\n",
       "    </tr>\n",
       "  </thead>\n",
       "  <tbody>\n",
       "    <tr>\n",
       "      <th>0</th>\n",
       "      <td>Long Island Rail Road</td>\n",
       "      <td>Commendation</td>\n",
       "      <td>Employees</td>\n",
       "      <td>CSR - Ambassador</td>\n",
       "      <td>Very Helpful/Friendly</td>\n",
       "      <td>2015</td>\n",
       "      <td>2</td>\n",
       "      <td>No Value</td>\n",
       "    </tr>\n",
       "    <tr>\n",
       "      <th>1</th>\n",
       "      <td>Long Island Rail Road</td>\n",
       "      <td>Commendation</td>\n",
       "      <td>Employees</td>\n",
       "      <td>CSR - Ambassador</td>\n",
       "      <td>Very Helpful/Friendly</td>\n",
       "      <td>2015</td>\n",
       "      <td>2</td>\n",
       "      <td>Port Jefferson</td>\n",
       "    </tr>\n",
       "    <tr>\n",
       "      <th>3</th>\n",
       "      <td>Long Island Rail Road</td>\n",
       "      <td>Commendation</td>\n",
       "      <td>Employees</td>\n",
       "      <td>CSR - Customer Service Office</td>\n",
       "      <td>Other</td>\n",
       "      <td>2015</td>\n",
       "      <td>2</td>\n",
       "      <td>Far Rockaway</td>\n",
       "    </tr>\n",
       "    <tr>\n",
       "      <th>4</th>\n",
       "      <td>Long Island Rail Road</td>\n",
       "      <td>Commendation</td>\n",
       "      <td>Employees</td>\n",
       "      <td>CSR - Customer Service Office</td>\n",
       "      <td>Very Helpful / Friendly</td>\n",
       "      <td>2015</td>\n",
       "      <td>2</td>\n",
       "      <td>No Value</td>\n",
       "    </tr>\n",
       "    <tr>\n",
       "      <th>5</th>\n",
       "      <td>Long Island Rail Road</td>\n",
       "      <td>Commendation</td>\n",
       "      <td>Employees</td>\n",
       "      <td>CSR - Customer Service Office</td>\n",
       "      <td>Very Helpful / Friendly</td>\n",
       "      <td>2014</td>\n",
       "      <td>3</td>\n",
       "      <td>No Value</td>\n",
       "    </tr>\n",
       "    <tr>\n",
       "      <th>...</th>\n",
       "      <td>...</td>\n",
       "      <td>...</td>\n",
       "      <td>...</td>\n",
       "      <td>...</td>\n",
       "      <td>...</td>\n",
       "      <td>...</td>\n",
       "      <td>...</td>\n",
       "      <td>...</td>\n",
       "    </tr>\n",
       "    <tr>\n",
       "      <th>183882</th>\n",
       "      <td>Subways</td>\n",
       "      <td>Complaint</td>\n",
       "      <td>Travel Disruption / Trip Problem</td>\n",
       "      <td>Website</td>\n",
       "      <td>No Announcement / Messages - Visual/Text</td>\n",
       "      <td>2017</td>\n",
       "      <td>4</td>\n",
       "      <td>C</td>\n",
       "    </tr>\n",
       "    <tr>\n",
       "      <th>183883</th>\n",
       "      <td>Subways</td>\n",
       "      <td>Complaint</td>\n",
       "      <td>Travel Disruption / Trip Problem</td>\n",
       "      <td>Website</td>\n",
       "      <td>No Announcement / Messages - Visual/Text</td>\n",
       "      <td>2017</td>\n",
       "      <td>4</td>\n",
       "      <td>No Value</td>\n",
       "    </tr>\n",
       "    <tr>\n",
       "      <th>183884</th>\n",
       "      <td>Subways</td>\n",
       "      <td>Complaint</td>\n",
       "      <td>Travel Disruption / Trip Problem</td>\n",
       "      <td>Website</td>\n",
       "      <td>No Announcement / Messages - Visual/Text</td>\n",
       "      <td>2017</td>\n",
       "      <td>4</td>\n",
       "      <td>N</td>\n",
       "    </tr>\n",
       "    <tr>\n",
       "      <th>183885</th>\n",
       "      <td>Subways</td>\n",
       "      <td>Complaint</td>\n",
       "      <td>Travel Disruption / Trip Problem</td>\n",
       "      <td>Website</td>\n",
       "      <td>Timeliness - Visual / Text</td>\n",
       "      <td>2017</td>\n",
       "      <td>4</td>\n",
       "      <td>7</td>\n",
       "    </tr>\n",
       "    <tr>\n",
       "      <th>183886</th>\n",
       "      <td>Subways</td>\n",
       "      <td>Complaint</td>\n",
       "      <td>Travel Disruption / Trip Problem</td>\n",
       "      <td>Website</td>\n",
       "      <td>Timeliness - Visual / Text</td>\n",
       "      <td>2017</td>\n",
       "      <td>4</td>\n",
       "      <td>No Value</td>\n",
       "    </tr>\n",
       "  </tbody>\n",
       "</table>\n",
       "<p>173753 rows × 8 columns</p>\n",
       "</div>"
      ],
      "text/plain": [
       "                       Agency Commendation or Complaint  \\\n",
       "0       Long Island Rail Road              Commendation   \n",
       "1       Long Island Rail Road              Commendation   \n",
       "3       Long Island Rail Road              Commendation   \n",
       "4       Long Island Rail Road              Commendation   \n",
       "5       Long Island Rail Road              Commendation   \n",
       "...                       ...                       ...   \n",
       "183882                Subways                 Complaint   \n",
       "183883                Subways                 Complaint   \n",
       "183884                Subways                 Complaint   \n",
       "183885                Subways                 Complaint   \n",
       "183886                Subways                 Complaint   \n",
       "\n",
       "                          Subject Matter                 Subject Detail  \\\n",
       "0                              Employees               CSR - Ambassador   \n",
       "1                              Employees               CSR - Ambassador   \n",
       "3                              Employees  CSR - Customer Service Office   \n",
       "4                              Employees  CSR - Customer Service Office   \n",
       "5                              Employees  CSR - Customer Service Office   \n",
       "...                                  ...                            ...   \n",
       "183882  Travel Disruption / Trip Problem                        Website   \n",
       "183883  Travel Disruption / Trip Problem                        Website   \n",
       "183884  Travel Disruption / Trip Problem                        Website   \n",
       "183885  Travel Disruption / Trip Problem                        Website   \n",
       "183886  Travel Disruption / Trip Problem                        Website   \n",
       "\n",
       "                                    Issue Detail  Year  Quarter  \\\n",
       "0                          Very Helpful/Friendly  2015        2   \n",
       "1                          Very Helpful/Friendly  2015        2   \n",
       "3                                          Other  2015        2   \n",
       "4                        Very Helpful / Friendly  2015        2   \n",
       "5                        Very Helpful / Friendly  2014        3   \n",
       "...                                          ...   ...      ...   \n",
       "183882  No Announcement / Messages - Visual/Text  2017        4   \n",
       "183883  No Announcement / Messages - Visual/Text  2017        4   \n",
       "183884  No Announcement / Messages - Visual/Text  2017        4   \n",
       "183885                Timeliness - Visual / Text  2017        4   \n",
       "183886                Timeliness - Visual / Text  2017        4   \n",
       "\n",
       "       Branch/Line/Route  \n",
       "0               No Value  \n",
       "1         Port Jefferson  \n",
       "3           Far Rockaway  \n",
       "4               No Value  \n",
       "5               No Value  \n",
       "...                  ...  \n",
       "183882                 C  \n",
       "183883          No Value  \n",
       "183884                 N  \n",
       "183885                 7  \n",
       "183886          No Value  \n",
       "\n",
       "[173753 rows x 8 columns]"
      ]
     },
     "execution_count": 8,
     "metadata": {},
     "output_type": "execute_result"
    }
   ],
   "source": [
    "df"
   ]
  },
  {
   "cell_type": "code",
   "execution_count": 9,
   "metadata": {},
   "outputs": [
    {
     "name": "stdout",
     "output_type": "stream",
     "text": [
      "<class 'pandas.core.frame.DataFrame'>\n",
      "Int64Index: 173753 entries, 0 to 183886\n",
      "Data columns (total 8 columns):\n",
      " #   Column                     Non-Null Count   Dtype \n",
      "---  ------                     --------------   ----- \n",
      " 0   Agency                     173753 non-null  object\n",
      " 1   Commendation or Complaint  173753 non-null  object\n",
      " 2   Subject Matter             173753 non-null  object\n",
      " 3   Subject Detail             173753 non-null  object\n",
      " 4   Issue Detail               173753 non-null  object\n",
      " 5   Year                       173753 non-null  int64 \n",
      " 6   Quarter                    173753 non-null  int64 \n",
      " 7   Branch/Line/Route          173753 non-null  object\n",
      "dtypes: int64(2), object(6)\n",
      "memory usage: 11.9+ MB\n"
     ]
    }
   ],
   "source": [
    "df.info()"
   ]
  },
  {
   "cell_type": "code",
   "execution_count": 10,
   "metadata": {},
   "outputs": [
    {
     "data": {
      "text/plain": [
       "Index(['Agency', 'Commendation or Complaint', 'Subject Matter',\n",
       "       'Subject Detail', 'Issue Detail', 'Year', 'Quarter',\n",
       "       'Branch/Line/Route'],\n",
       "      dtype='object')"
      ]
     },
     "execution_count": 10,
     "metadata": {},
     "output_type": "execute_result"
    }
   ],
   "source": [
    "df.columns"
   ]
  },
  {
   "cell_type": "code",
   "execution_count": 11,
   "metadata": {},
   "outputs": [
    {
     "data": {
      "text/plain": [
       "<seaborn.axisgrid.PairGrid at 0x19e2163fd90>"
      ]
     },
     "execution_count": 11,
     "metadata": {},
     "output_type": "execute_result"
    },
    {
     "data": {
      "image/png": "[encoded data removed]",
      "text/plain": [
       "<Figure size 500x500 with 6 Axes>"
      ]
     },
     "metadata": {},
     "output_type": "display_data"
    }
   ],
   "source": [
    "sns.pairplot(df)"
   ]
  },
  {
   "cell_type": "code",
   "execution_count": 12,
   "metadata": {},
   "outputs": [
    {
     "name": "stdout",
     "output_type": "stream",
     "text": [
      "<class 'pandas.core.series.Series'>\n",
      "Int64Index: 173753 entries, 0 to 183886\n",
      "Series name: Agency\n",
      "Non-Null Count   Dtype \n",
      "--------------   ----- \n",
      "173753 non-null  object\n",
      "dtypes: object(1)\n",
      "memory usage: 2.7+ MB\n"
     ]
    }
   ],
   "source": [
    "df.iloc[:,0].info()"
   ]
  },
  {
   "cell_type": "code",
   "execution_count": 13,
   "metadata": {},
   "outputs": [
    {
     "data": {
      "text/plain": [
       "'Agency'"
      ]
     },
     "execution_count": 13,
     "metadata": {},
     "output_type": "execute_result"
    }
   ],
   "source": [
    "df.columns[0]"
   ]
  },
  {
   "cell_type": "code",
   "execution_count": 14,
   "metadata": {},
   "outputs": [
    {
     "data": {
      "text/plain": [
       "(173753, 8)"
      ]
     },
     "execution_count": 14,
     "metadata": {},
     "output_type": "execute_result"
    }
   ],
   "source": [
    "df.shape"
   ]
  },
  {
   "cell_type": "code",
   "execution_count": 15,
   "metadata": {},
   "outputs": [
    {
     "data": {
      "text/plain": [
       "<AxesSubplot: >"
      ]
     },
     "execution_count": 15,
     "metadata": {},
     "output_type": "execute_result"
    },
    {
     "data": {
      "image/png": "[encoded data removed]",
      "text/plain": [
       "<Figure size 640x480 with 1 Axes>"
      ]
     },
     "metadata": {},
     "output_type": "display_data"
    }
   ],
   "source": [
    "sns.boxplot(df['Quarter'])\n",
    "sns.boxplot(df['Year'])"
   ]
  },
  {
   "cell_type": "code",
   "execution_count": null,
   "metadata": {},
   "outputs": [],
   "source": []
  }
 ],
 "metadata": {
  "kernelspec": {
   "display_name": "Python 3.8.0 64-bit ('Py_venv')",
   "language": "python",
   "name": "python3"
  },
  "language_info": {
   "codemirror_mode": {
    "name": "ipython",
    "version": 3
   },
   "file_extension": ".py",
   "mimetype": "text/x-python",
   "name": "python",
   "nbconvert_exporter": "python",
   "pygments_lexer": "ipython3",
   "version": "3.8.0"
  },
  "orig_nbformat": 4,
  "vscode": {
   "interpreter": {
    "hash": "716640fa44058f6bfe1332581b26a467ad72c31f1409e8bbe03a5373cc7f7e79"
   }
  }
 },
 "nbformat": 4,
 "nbformat_minor": 2
}
