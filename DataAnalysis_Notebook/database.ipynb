{
 "cells": [
  {
   "cell_type": "code",
   "execution_count": null,
   "metadata": {},
   "outputs": [],
   "source": []
  }
 ],
 "metadata": {
  "kernelspec": {
   "display_name": "Python 3.8.0 (conda)",
   "language": "python",
   "name": "python3"
  },
  "language_info": {
   "name": "python",
   "version": "3.8.0"
  },
  "orig_nbformat": 4,
  "vscode": {
   "interpreter": {
    "hash": "716640fa44058f6bfe1332581b26a467ad72c31f1409e8bbe03a5373cc7f7e79"
   }
  }
 },
 "nbformat": 4,
 "nbformat_minor": 2
}
